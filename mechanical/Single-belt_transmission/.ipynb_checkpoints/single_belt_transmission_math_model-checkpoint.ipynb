{
 "cells": [
  {
   "cell_type": "markdown",
   "metadata": {},
   "source": [
    "# Single-belt transmission using two pulleys"
   ]
  },
  {
   "cell_type": "markdown",
   "metadata": {},
   "source": [
    "This notebook reasons through the mathematics described in the \"Gates\" formulas in the FreeCAD forum thread at [Re: Modeling single-belt transmission using standard off-the-shelf v-belts and pulleys post 184520](https://forum.freecadweb.org/viewtopic.php?p=185286#p184520) to find a more precise value of center-to-center distance between the pulleys, given user-supplied length $L_p$ of the pulley, and both pitch diameters of both pulleys, $D$ and $d$.\n",
    "\n",
    "This notebook with `scipy.optimize.root` to find the precise center-to-center distance, $C$.\n",
    "\n",
    "Below, **Formula 3** and **Formula 4** are those formulas in the Gates PDF referenced by the above [forum post](https://forum.freecadweb.org/viewtopic.php?p=185286#p184520)."
   ]
  },
  {
   "cell_type": "markdown",
   "metadata": {},
   "source": [
    "# Formula 3\n",
    "\n",
    "The more precise Formula 3 is:\n",
    "\n",
    "$$L_p = 2C \\cos\\varphi + \\frac{\\pi (D + d)}{2}  + \\frac{\\pi\\varphi(D - d)}{180}$$\n",
    "\n",
    "where:\n",
    "\n",
    "- $L_p$ is belt pitch length, inches\n",
    "- $C$ is center distance, inches\n",
    "- $D$ is pitch diameter of large pulley, inches\n",
    "- $d$ is pitch diameter of small pulley, inches\n",
    "- $\\varphi = \\arcsin(\\frac{D-d}{2C})$ and must be the same thing as $\\phi$ in the diagram in the [forum post](https://forum.freecadweb.org/viewtopic.php?p=185286#p184520) right underneath **Formula 4** given the trig formula of $\\sin(x) = \\frac{opposite}{hypotenuse}$\n"
   ]
  },
  {
   "cell_type": "markdown",
   "metadata": {},
   "source": [
    "Plot the right-hand side of Formula 3 to explore what it looks like. Ignore the left-hand side value of $L_p$ for the moment:"
   ]
  },
  {
   "cell_type": "code",
   "execution_count": 92,
   "metadata": {},
   "outputs": [
    {
     "data": {
      "image/png": "[encoded data removed]",
      "text/plain": [
       "<matplotlib.figure.Figure at 0x7fe5e79f9710>"
      ]
     },
     "metadata": {},
     "output_type": "display_data"
    }
   ],
   "source": [
    "import math\n",
    "import matplotlib.pyplot as plt  \n",
    "import numpy as np \n",
    "\n",
    "def rhs_formula_3(C, D, d):\n",
    "    \"\"\"Right hand side of Formula 3 as a function of C, D, and d.\"\"\"\n",
    "    \n",
    "    # diff is a helper, like phi:\n",
    "    diff = D - d\n",
    "\n",
    "    phi = np.arcsin(diff / (2 * C))\n",
    "\n",
    "    # L is the vbelt length corresponding to C calculated via Formula 3:\n",
    "    L = 2 * C * np.cos(phi) + ((math.pi * (D + d)) / 2) + (math.pi * phi * diff)/ 180\n",
    "\n",
    "    return L\n",
    "\n",
    "D = 16.0  # inches\n",
    "d = 4.0  # inches\n",
    "# L = 56  # inches\n",
    "                                                             \n",
    "C = np.linspace(0, 100, 1000)\n",
    "L = rhs_formula_3(C, D, d)\n",
    "plt.xlabel('C')\n",
    "plt.ylabel('L')\n",
    "plt.grid(True)\n",
    "plt.plot(C, L)\n",
    "plt.show()"
   ]
  },
  {
   "cell_type": "markdown",
   "metadata": {},
   "source": [
    "This seems to be fairly linear with $C$ values greater than ~8. So in practice, for arbitrary user-supplied values of $L_p$, $D$, and $d$, we will need to do extra checks against invalid values."
   ]
  },
  {
   "cell_type": "markdown",
   "metadata": {},
   "source": [
    "# Formula 4\n",
    "\n",
    "Formula 4 is the approximate center distance given values of $L_p$, $D$ and $d$:\n",
    "\n",
    "$$C = \\frac{K + \\sqrt{K^2 - 32(D - d)^2}}{16}$$\n",
    "\n",
    "where:\n",
    "\n",
    "- $K = 4L_p - 2\\pi(D - d)$"
   ]
  },
  {
   "cell_type": "markdown",
   "metadata": {},
   "source": [
    "Plot the right hand side of Formula 4:"
   ]
  },
  {
   "cell_type": "code",
   "execution_count": 88,
   "metadata": {},
   "outputs": [
    {
     "data": {
      "image/png": "[encoded data removed]",
      "text/plain": [
       "<matplotlib.figure.Figure at 0x7fe5e7906890>"
      ]
     },
     "metadata": {},
     "output_type": "display_data"
    }
   ],
   "source": [
    "import math\n",
    "import matplotlib.pyplot as plt\n",
    "import numpy as np\n",
    "\n",
    "\n",
    "def rhs_formula_4(L, D, d):\n",
    "    \"\"\"Right hand side of Formula 4 as a function of L, D, and d.\"\"\"\n",
    "\n",
    "    K = (4 * L) - (2 * math.pi * (D + d))\n",
    "    C = (K + np.sqrt(np.power(K, 2) - (32 * np.power(D - d, 2)))) / 16\n",
    "    return C\n",
    "\n",
    "\n",
    "D = 16.0  # inches\n",
    "d = 4.0  # inches\n",
    "# L = 56  # inches\n",
    "\n",
    "L = np.linspace(55, 60, 1000)\n",
    "C = rhs_formula_4(L, D, d)\n",
    "plt.xlabel('L')\n",
    "plt.ylabel('C')\n",
    "plt.grid(True)\n",
    "plt.plot(L, C)\n",
    "plt.show()"
   ]
  },
  {
   "cell_type": "markdown",
   "metadata": {},
   "source": [
    "# Formula 3r\n",
    "\n",
    "(\"r\" for rearranged, or for roots)\n",
    "\n",
    "For our application, the belt length, $L_p$, is a given, and we want to know a (fairly?) precise value of $C$. So taking Formula 3 and rearranging:\n",
    "\n",
    "$$0 = 2C \\cos\\varphi + \\frac{\\pi (D + d)}{2}  + \\frac{\\pi\\varphi(D - d)}{180} - L_p$$\n",
    "\n",
    "We have a non-linear formula. The value (values?) of $C$ are the roots of that equation.\n"
   ]
  },
  {
   "cell_type": "markdown",
   "metadata": {},
   "source": [
    "First, we plot the right-hand side of the above rearranged formula:"
   ]
  },
  {
   "cell_type": "code",
   "execution_count": 14,
   "metadata": {
    "scrolled": true
   },
   "outputs": [
    {
     "data": {
      "image/png": "[encoded data removed]",
      "text/plain": [
       "<matplotlib.figure.Figure at 0x7f52e7305b50>"
      ]
     },
     "metadata": {},
     "output_type": "display_data"
    }
   ],
   "source": [
    "import math\n",
    "import matplotlib.pyplot as plt  \n",
    "import numpy as np \n",
    "\n",
    "def rhs_formula_3r(C, L, D, d):\n",
    "    \"\"\"Formula 3 rearranged to be a function that can be passed eventually to optimize.root,\n",
    "    as a function of C, L, D, and d.\"\"\"\n",
    "    \n",
    "    # diff is a helper, like phi:\n",
    "    diff = D - d\n",
    "\n",
    "    phi = np.arcsin(diff / (2 * C))\n",
    "\n",
    "    # L is the vbelt length corresponding to C calculated via Formula 3:\n",
    "    return 2 * C * np.cos(phi) + ((math.pi * (D + d)) / 2) + (math.pi * phi * diff)/ 180 - L\n",
    "\n",
    "\n",
    "D = 16.0  # inches\n",
    "d = 4.0  # inches\n",
    "L = 56  # inches\n",
    "                                                             \n",
    "C = np.linspace(8, 20, 1000)\n",
    "L = rhs_formula_3r(C, L, D, d)\n",
    "plt.xlabel('C')\n",
    "plt.ylabel('Formula 3r')\n",
    "plt.grid(True)\n",
    "plt.plot(C, L)\n",
    "plt.show()"
   ]
  },
  {
   "cell_type": "markdown",
   "metadata": {},
   "source": [
    "So there seems to be a root of $C$ somewhere between 12 and 14 inches.\n",
    "\n",
    "Now we can apply [scipy.optimize.root](https://docs.scipy.org/doc/scipy/reference/generated/scipy.optimize.root.html#scipy.optimize.root).\n",
    "\n",
    "But that requires an initial guess (the `x0` argument of the `optimize.root` function).  If we plot larger and larger values of the `rhs_formula_3r` function above, we see it is monotonically increasing, so we can guess that we can give it some rather large value for $C$ for the starting value and the `optimize.root` function should easily find the root.\n",
    "\n",
    "So our starting value could actually be close to $L_p$ of our known v-belt length of 56 inches, and we know that the precise value of $C$ we are looking for should be less than that, just given the geometrical constraints.\n",
    "\n",
    "There are many other options to pass to `optimize.root`, but the defaults seemed to work (see read on)."
   ]
  },
  {
   "cell_type": "code",
   "execution_count": 98,
   "metadata": {},
   "outputs": [
    {
     "name": "stdout",
     "output_type": "stream",
     "text": [
      "Found C: 13.6353746387\n"
     ]
    }
   ],
   "source": [
    "import math\n",
    "import numpy as np\n",
    "from scipy import optimize\n",
    "\n",
    "def rhs_formula_3r(C, L, D, d):\n",
    "    \"\"\"Formula 3 rearranged to be a function that can be passed to scipi.optimize.root,\n",
    "    as a function of C, L, D, and d.\"\"\"\n",
    "    \n",
    "    # diff is a helper, like phi:\n",
    "    diff = D - d\n",
    "\n",
    "    phi = np.arcsin(diff / (2 * C))\n",
    "\n",
    "    # L is the vbelt length corresponding to C calculated via Formula 3:\n",
    "    return 2 * C * np.cos(phi) + ((math.pi * (D + d)) / 2) + (math.pi * phi * diff)/ 180 - L\n",
    "\n",
    "\n",
    "D = 16.0  # inches\n",
    "d = 4.0  # inches\n",
    "L = 56  # inches\n",
    "\n",
    "# We know that the center distance, by physical geometrical constraints, \n",
    "# must be less than L, so we just start the initial guess at that value, of L:\n",
    "C_guess = L\n",
    "\n",
    "def rhs_formula_3r_with_fixed_L(C):\n",
    "    return rhs_formula_3r(C, L, D, d)\n",
    "\n",
    "result = optimize.root(rhs_formula_3r_with_fixed_L, C_guess)\n",
    "C_found = result.x[0]\n",
    "print \"Found C: {}\".format(C_found)\n"
   ]
  },
  {
   "cell_type": "markdown",
   "metadata": {},
   "source": [
    "Redo the above plot of `rhs_formula_3r` but \"zoom in\" by changing the arguments to the `np.linspace` call to see the root:"
   ]
  },
  {
   "cell_type": "code",
   "execution_count": 1,
   "metadata": {
    "scrolled": true
   },
   "outputs": [
    {
     "data": {
      "image/png": "[encoded data removed]",
      "text/plain": [
       "<matplotlib.figure.Figure at 0x7f52fc237ed0>"
      ]
     },
     "metadata": {},
     "output_type": "display_data"
    }
   ],
   "source": [
    "import math\n",
    "import matplotlib.pyplot as plt  \n",
    "import numpy as np \n",
    "\n",
    "def rhs_formula_3r(C, L, D, d):\n",
    "    \"\"\"Formula 3 rearranged to be a function that can be passed eventually to optimize.root,\n",
    "    as a function of C, L, D, and d.\"\"\"\n",
    "    \n",
    "    # diff is a helper, like phi:\n",
    "    diff = D - d\n",
    "\n",
    "    phi = np.arcsin(diff / (2 * C))\n",
    "\n",
    "    # L is the vbelt length corresponding to C calculated via Formula 3:\n",
    "    return 2 * C * np.cos(phi) + ((math.pi * (D + d)) / 2) + (math.pi * phi * diff)/ 180 - L\n",
    "\n",
    "\n",
    "D = 16.0  # inches\n",
    "d = 4.0  # inches\n",
    "L = 56  # inches\n",
    "                                                             \n",
    "C = np.linspace(12, 14, 1000)\n",
    "L = rhs_formula_3r(C, L, D, d)\n",
    "plt.xlabel('C')\n",
    "plt.ylabel('Formula 3r')\n",
    "plt.grid(True)\n",
    "plt.plot(C, L)\n",
    "plt.show()"
   ]
  },
  {
   "cell_type": "markdown",
   "metadata": {},
   "source": [
    "Plug in the value of `C_found` to our precise Formula 3 function to verify what is returned matches up with our originally supplied value of $L_p$:"
   ]
  },
  {
   "cell_type": "code",
   "execution_count": 91,
   "metadata": {},
   "outputs": [
    {
     "name": "stdout",
     "output_type": "stream",
     "text": [
      "Calculated L: 56.0\n"
     ]
    }
   ],
   "source": [
    "D = 16.0  # inches\n",
    "d = 4.0  # inches\n",
    "# L = 56  # inches\n",
    "\n",
    "L = rhs_formula_3(C_found, D, d)\n",
    "print \"Calculated L: {}\".format(L)"
   ]
  },
  {
   "cell_type": "markdown",
   "metadata": {},
   "source": [
    "And it does.\n",
    "\n",
    "But it is interesting that, up to right now, we did not even use **Formula 4** at all. We didn't even need it for this use case where the user starts out with a chosen v-belt, and thus a fixed value of the length of that v-belt, $L_p$.\n",
    "\n",
    "For chuckles, plug the value for $L_p$ into **Formula 4** to see what it calculates:"
   ]
  },
  {
   "cell_type": "code",
   "execution_count": 97,
   "metadata": {},
   "outputs": [
    {
     "data": {
      "text/plain": [
       "10.592763440293096"
      ]
     },
     "execution_count": 97,
     "metadata": {},
     "output_type": "execute_result"
    }
   ],
   "source": [
    "D = 16.0  # inches\n",
    "d = 4.0  # inches\n",
    "L = 56  # inches\n",
    "\n",
    "C_from_formula_4 = rhs_formula_4(L, D, d)\n",
    "C_from_formula_4\n"
   ]
  },
  {
   "cell_type": "markdown",
   "metadata": {},
   "source": [
    "which is pretty far off from `C_found`. "
   ]
  },
  {
   "cell_type": "markdown",
   "metadata": {},
   "source": [
    "# Formula chrisb\n",
    "\n",
    "Let's analyze the formula chrisb (thanks Chris!) at his [forum post](https://forum.freecadweb.org/viewtopic.php?p=185286#p184566):\n",
    "\n",
    "His formula is:\n",
    "\n",
    "$$L = 2\\sqrt{a^2 - (R - r)^2} + \\pi(R + r) + 2\\pi\\frac{\\arcsin{\\frac{R-r}{a}}}{180}(R - r)$$\n",
    "\n",
    "where:\n",
    "\n",
    "- $L$ is the same as our earlier $L_p$\n",
    "- $a$ is the same as our earlier $C$\n",
    "- $R$ is the radius of the big pulley which is the same as $D/2$\n",
    "- $r$ is the radius of the small pulley which is the same as $d/2$\n",
    "\n"
   ]
  },
  {
   "cell_type": "markdown",
   "metadata": {},
   "source": [
    "Re-express it using our earlier symbols:"
   ]
  },
  {
   "cell_type": "markdown",
   "metadata": {},
   "source": [
    "# Formula chrisb2\n",
    "\n",
    "** Formula chrisb** reexpressed using our earlier symbols is:\n",
    "\n",
    "$$L_p = 2\\sqrt{C^2 - (\\frac{D - d}{2})^2} + \\frac{\\pi(D + d)}{2} + \\frac{\\pi\\varphi(D - d)}{180}$$\n",
    "\n",
    "where:\n",
    "\n",
    "$$\\varphi = \\arcsin{\\frac{D - d}{2C}}$$\n",
    "\n",
    "Compare to the **Formula 3** which was:\n",
    "\n",
    "$$L_p = 2C \\cos\\varphi + \\frac{\\pi (D + d)}{2}  + \\frac{\\pi\\varphi(D - d)}{180}$$\n",
    "\n",
    "\n"
   ]
  },
  {
   "cell_type": "markdown",
   "metadata": {},
   "source": [
    "It seems that **Formula chrisb2** which we derived above seems awfully close to **Formula 3**. Let's do a quick plot of the differences between them to see how far apart they are:"
   ]
  },
  {
   "cell_type": "code",
   "execution_count": 23,
   "metadata": {
    "scrolled": true
   },
   "outputs": [
    {
     "data": {
      "image/png": "[encoded data removed]",
      "text/plain": [
       "<matplotlib.figure.Figure at 0x7f52e709a290>"
      ]
     },
     "metadata": {},
     "output_type": "display_data"
    }
   ],
   "source": [
    "import math\n",
    "import matplotlib.pyplot as plt\n",
    "import numpy as np\n",
    "\n",
    "\n",
    "def rhs_formula_3(C, D, d):\n",
    "    \"\"\"Right hand side of Formula 3 as a function of C, D, and d.\"\"\"\n",
    "\n",
    "    # diff is a helper, like phi:\n",
    "    diff = D - d\n",
    "\n",
    "    phi = np.arcsin(diff / (2 * C))\n",
    "\n",
    "    # L is the vbelt length corresponding to C calculated via Formula 3:\n",
    "    L = 2 * C * np.cos(phi) + ((math.pi * (D + d)) / 2) + (math.pi * phi * diff) / 180\n",
    "\n",
    "    return L\n",
    "\n",
    "\n",
    "def rhs_formula_chrisb2(C, D, d):\n",
    "    \"\"\"Right hand side of Formula chrisb2 as a function of C, D, and d.\"\"\"\n",
    "\n",
    "    # diff is a helper, like phi:\n",
    "    diff = D - d\n",
    "\n",
    "    phi = np.arcsin(diff / (2 * C))\n",
    "\n",
    "    # L is the vbelt length corresponding to C calculated via Formula chrisb2:\n",
    "    L = 2 * np.sqrt(np.power(C, 2) - np.power(diff / 2, 2)) + ((math.pi * (D + d)) / 2) + (math.pi * phi * diff) / 180\n",
    "\n",
    "    return L\n",
    "\n",
    "\n",
    "D = 16.0  # inches\n",
    "d = 4.0  # inches\n",
    "# L = 56  # inches\n",
    "\n",
    "C = np.linspace(8, 100, 1000)\n",
    "L_3 = rhs_formula_3(C, D, d)\n",
    "L_chrisb2 = rhs_formula_chrisb2(C, D, d)\n",
    "L_diff = L_chrisb2 - L_3\n",
    "plt.xlabel('C')\n",
    "plt.ylabel('L')\n",
    "plt.grid(True)\n",
    "plt.plot(C, L_diff)\n",
    "plt.show()\n"
   ]
  },
  {
   "cell_type": "markdown",
   "metadata": {},
   "source": [
    "Given the extremely small differences in `L_diff` shown above (floating point error no doubt), I conclude **Formula 3** and **Formula chrisb2** (and thus chrisb's original formula) are equivalent.\n",
    "\n",
    "So switching to use his formula might not provide any benefit, per se (unless his is more efficient which might be relevant to investigate at some other time).\n",
    "\n"
   ]
  },
  {
   "cell_type": "markdown",
   "metadata": {
    "collapsed": true
   },
   "source": [
    "# Why is convergence between Formula 3 and Formula 4 required?"
   ]
  },
  {
   "cell_type": "markdown",
   "metadata": {
    "collapsed": true
   },
   "source": [
    "The Gates PDF stated that Formula 4 needed to converge with Formula 3:\n",
    "\n",
    "> The exact center distance can be calculated using an iterative\n",
    "> process between the center distance (Formula 4) and belt\n",
    "> length (Formula 3) equations. The exact center distance has\n",
    "> been found when the two equations converge.\n",
    "\n",
    "Why isn't **Formula 3** sufficient?  It might not be. Read on."
   ]
  },
  {
   "cell_type": "markdown",
   "metadata": {},
   "source": [
    "# Model the pulley in FreeCAD"
   ]
  },
  {
   "cell_type": "markdown",
   "metadata": {},
   "source": [
    "Along in the original post, I had modeled the pulley in FreeCAD. Find that in this same directory named as [single_belt_transmission.fcstd](single_belt_transmission.fcstd).\n",
    "\n",
    "Inside FreeCAD file, I have constrained the sketch that models the pulley to have the dimensions we found, and applied the [total_sketcher_geometry_length.py](total_sketcher_geometry_length.py) to measure all lengths of all non-construction geometry which should be the real v-belt length. We found it gave a value of 1.70 yd or around 61.2 inches which is not our starting value of 56 inches for length.\n",
    "\n",
    "What would be the cause of this difference? Both **Formula chrisb** and **Formula 3** seem to be equivalent as shown above.\n",
    "\n",
    "Does this indicate a need for that \"iterative process\" indicated above, or something wrong in how I constructed the FreeCAD document?\n"
   ]
  }
 ],
 "metadata": {
  "kernelspec": {
   "display_name": "Python 2",
   "language": "python",
   "name": "python2"
  },
  "language_info": {
   "codemirror_mode": {
    "name": "ipython",
    "version": 2
   },
   "file_extension": ".py",
   "mimetype": "text/x-python",
   "name": "python",
   "nbconvert_exporter": "python",
   "pygments_lexer": "ipython2",
   "version": "2.7.13"
  }
 },
 "nbformat": 4,
 "nbformat_minor": 2
}
